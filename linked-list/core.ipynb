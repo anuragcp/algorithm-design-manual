{
 "cells": [
  {
   "cell_type": "markdown",
   "metadata": {},
   "source": [
    "### LinkedList"
   ]
  },
  {
   "cell_type": "code",
   "execution_count": 131,
   "metadata": {},
   "outputs": [],
   "source": [
    "class Node:\n",
    "    def __init__(self, value) -> None:\n",
    "        self.value = value\n",
    "        self.next = None\n",
    "    \n",
    "    def __repr__(self) -> str:\n",
    "        return f\"< value = {self.value} >\""
   ]
  },
  {
   "cell_type": "code",
   "execution_count": 132,
   "metadata": {},
   "outputs": [],
   "source": [
    "class LinkedList:\n",
    "    \"\"\"\n",
    "        Class implements the LinkedList datastructure which has following operations:\n",
    "            1. Insert\n",
    "            2. Search\n",
    "            3. Delete\n",
    "    \"\"\"\n",
    "    def __init__(self, header) -> None:\n",
    "        self.header = header\n",
    "        self.link_count = 1\n",
    "    \n",
    "    def __str__(self) -> str:\n",
    "        return ' -> '.join(self.to_list())\n",
    "    \n",
    "    def insert_at_front(self, value):\n",
    "        _node = Node(value=value)\n",
    "        _node.next = self.header\n",
    "        self.header = _node\n",
    "        self.link_count += 1\n",
    "    \n",
    "    def insert_at_end(self, value):\n",
    "        pointer = self.header\n",
    "        while pointer.next != None:\n",
    "            pointer = pointer.next\n",
    "        pointer.next = Node(value=value)\n",
    "    \n",
    "    def find(self, value, expects='current'):\n",
    "        \"\"\"\n",
    "            expected outputs\n",
    "                -1   => Did not find the link with the value\n",
    "                0    => Header is the current value\n",
    "                Node => retuns the respective Node\n",
    "        \"\"\"\n",
    "        if self.header.value == value:\n",
    "            return 0\n",
    "        predecessor = self.header\n",
    "        link = self.header.next\n",
    "        while link != None:\n",
    "            if link.value == value:\n",
    "                if expects == 'predecessor':\n",
    "                    return predecessor\n",
    "                elif expects == 'successor':\n",
    "                    return link.next\n",
    "                elif expects == 'current':\n",
    "                    return link.next\n",
    "                else:\n",
    "                    ValueError('Error: invalid parameter value')\n",
    "            else:\n",
    "                predecessor = link\n",
    "                link = link.next\n",
    "        return -1\n",
    "    \n",
    "    def delete(self, value):\n",
    "        predecessor = self.find(value=value, expects='predecessor')\n",
    "        if predecessor == -1:\n",
    "            return ValueError(\"Item Not Found\")\n",
    "        if predecessor == 0:\n",
    "            tbd_link = self.header\n",
    "            if self.header.next is not None:\n",
    "                self.header = self.header.next\n",
    "            else:\n",
    "                self.header = None\n",
    "        else:\n",
    "            tbd_link = predecessor.next\n",
    "            predecessor.next = predecessor.next.next\n",
    "        del tbd_link\n",
    "        return True\n",
    "    \n",
    "    def to_list(self):\n",
    "        _list = []\n",
    "        link = self.header\n",
    "        while link != None:\n",
    "            _list.append(link.value)\n",
    "            link = link.next\n",
    "        return _list"
   ]
  },
  {
   "cell_type": "code",
   "execution_count": 133,
   "metadata": {},
   "outputs": [],
   "source": [
    "linked_list = LinkedList(Node(value='1'))"
   ]
  },
  {
   "cell_type": "code",
   "execution_count": 134,
   "metadata": {},
   "outputs": [],
   "source": [
    "linked_list.insert_at_end(value='2')\n",
    "linked_list.insert_at_front(value='3')\n",
    "linked_list.insert_at_end(value='4')\n",
    "linked_list.insert_at_front(value='5')"
   ]
  },
  {
   "cell_type": "code",
   "execution_count": 135,
   "metadata": {},
   "outputs": [
    {
     "name": "stdout",
     "output_type": "stream",
     "text": [
      "5 -> 3 -> 1 -> 2 -> 4\n"
     ]
    }
   ],
   "source": [
    "print(linked_list)"
   ]
  },
  {
   "cell_type": "code",
   "execution_count": 137,
   "metadata": {},
   "outputs": [
    {
     "name": "stdout",
     "output_type": "stream",
     "text": [
      "5 -> 3 -> 1 -> 2 -> 4\n"
     ]
    }
   ],
   "source": [
    "print(linked_list)"
   ]
  }
 ],
 "metadata": {
  "kernelspec": {
   "display_name": "Python 3",
   "language": "python",
   "name": "python3"
  },
  "language_info": {
   "codemirror_mode": {
    "name": "ipython",
    "version": 3
   },
   "file_extension": ".py",
   "mimetype": "text/x-python",
   "name": "python",
   "nbconvert_exporter": "python",
   "pygments_lexer": "ipython3",
   "version": "3.12.4"
  }
 },
 "nbformat": 4,
 "nbformat_minor": 2
}
