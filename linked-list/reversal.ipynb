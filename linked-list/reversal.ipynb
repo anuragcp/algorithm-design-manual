{
 "cells": [
  {
   "cell_type": "code",
   "execution_count": 84,
   "metadata": {},
   "outputs": [
    {
     "name": "stdout",
     "output_type": "stream",
     "text": [
      "Shyamrag -> Radhika -> Anurag -> Malavika -> Prathyusha\n",
      "Anurag -> Malavika\n"
     ]
    }
   ],
   "source": [
    "import import_ipynb\n",
    "%run ./core.ipynb"
   ]
  },
  {
   "cell_type": "code",
   "execution_count": 85,
   "metadata": {},
   "outputs": [],
   "source": [
    "class LinkedListReversal(LinkedList):\n",
    "    def __init__(self, header):\n",
    "        super().__init__(header)\n",
    "\n",
    "    def reverse(self):\n",
    "        predecessor = None\n",
    "        if self.header == None:\n",
    "            return Exception(\"LinkedList is empty\")\n",
    "        current = self.header\n",
    "        while current is not None:\n",
    "            successor = current.next\n",
    "            current.next = predecessor\n",
    "            predecessor = current\n",
    "            current = successor\n",
    "        self.header = predecessor\n",
    "        return True"
   ]
  },
  {
   "cell_type": "code",
   "execution_count": 86,
   "metadata": {},
   "outputs": [],
   "source": [
    "linked_list = LinkedListReversal(Node(value='1'))\n",
    "linked_list.insert_at_end(value='2')\n",
    "linked_list.insert_at_front(value='3')\n",
    "linked_list.insert_at_end(value='4')\n",
    "linked_list.insert_at_front(value='5')"
   ]
  },
  {
   "cell_type": "code",
   "execution_count": 87,
   "metadata": {},
   "outputs": [
    {
     "name": "stdout",
     "output_type": "stream",
     "text": [
      "5 -> 3 -> 1 -> 2 -> 4\n"
     ]
    }
   ],
   "source": [
    "print(linked_list)"
   ]
  },
  {
   "cell_type": "code",
   "execution_count": 88,
   "metadata": {},
   "outputs": [
    {
     "data": {
      "text/plain": [
       "True"
      ]
     },
     "execution_count": 88,
     "metadata": {},
     "output_type": "execute_result"
    }
   ],
   "source": [
    "linked_list.reverse()"
   ]
  },
  {
   "cell_type": "code",
   "execution_count": 89,
   "metadata": {},
   "outputs": [
    {
     "name": "stdout",
     "output_type": "stream",
     "text": [
      "4 -> 2 -> 1 -> 3 -> 5\n"
     ]
    }
   ],
   "source": [
    "print(linked_list)"
   ]
  }
 ],
 "metadata": {
  "kernelspec": {
   "display_name": "Python 3",
   "language": "python",
   "name": "python3"
  },
  "language_info": {
   "codemirror_mode": {
    "name": "ipython",
    "version": 3
   },
   "file_extension": ".py",
   "mimetype": "text/x-python",
   "name": "python",
   "nbconvert_exporter": "python",
   "pygments_lexer": "ipython3",
   "version": "3.12.4"
  }
 },
 "nbformat": 4,
 "nbformat_minor": 2
}
